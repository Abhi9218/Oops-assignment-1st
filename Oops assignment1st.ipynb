{
 "cells": [
  {
   "cell_type": "markdown",
   "id": "d2a43771-51de-49b1-9dd8-eb0d1cfd74f5",
   "metadata": {},
   "source": [
    "# Oops assignment 1st"
   ]
  },
  {
   "cell_type": "markdown",
   "id": "20e528dc-82ef-4017-97c1-884cd8603ea0",
   "metadata": {},
   "source": [
    "### Q1. Explain Class and Object with respect to Object-Oriented Programming. Give a suitable example."
   ]
  },
  {
   "cell_type": "markdown",
   "id": "6a66405d-c380-4098-995b-9ad5ed934ff1",
   "metadata": {},
   "source": [
    "class= A class is bluerint or tamplate which define some properties and behaviour(method).\n",
    "\n",
    "object=An object is an instance of a class which has those properties and behaviours attached."
   ]
  },
  {
   "cell_type": "markdown",
   "id": "40053827-171a-4c71-9790-bc65bd14fe56",
   "metadata": {},
   "source": [
    "###### Suitable example of class and object---"
   ]
  },
  {
   "cell_type": "code",
   "execution_count": 5,
   "id": "98544ba4-1c66-4d5b-a750-8d34c3f01d8a",
   "metadata": {},
   "outputs": [],
   "source": [
    "class school:                                             # class\n",
    "    \n",
    "    def __init__(self,name_of_school,number_of_teacher):\n",
    "        self.name_of_school=name_of_school\n",
    "        self.number_of_teacher=number_of_teacher\n",
    "        \n",
    "    def return_school_details(self):\n",
    "        return self.name_of_school,self.number_of_teacher"
   ]
  },
  {
   "cell_type": "code",
   "execution_count": 6,
   "id": "5f9999bf-d875-497f-b864-78b26259b121",
   "metadata": {},
   "outputs": [],
   "source": [
    "pw=school(\"pwskills\",2000)   # object "
   ]
  },
  {
   "cell_type": "code",
   "execution_count": 4,
   "id": "22e0e6db-11a6-4326-b2b9-c013b153f39b",
   "metadata": {},
   "outputs": [
    {
     "data": {
      "text/plain": [
       "2000"
      ]
     },
     "execution_count": 4,
     "metadata": {},
     "output_type": "execute_result"
    }
   ],
   "source": [
    "pw.number_of_teacher"
   ]
  },
  {
   "cell_type": "markdown",
   "id": "bcc25ad3-ab98-4f9b-81c2-6810b4e9a5b6",
   "metadata": {},
   "source": [
    "### Q2. Name the four pillars of OOPs."
   ]
  },
  {
   "cell_type": "markdown",
   "id": "fd4d44f1-aedf-492e-8652-8da3487a5910",
   "metadata": {},
   "source": [
    "The four pillars of Oops\n",
    "\n",
    "  1.Polymerphism\n",
    "  \n",
    "  2.Encapsulation\n",
    "  \n",
    "  3.Abstarction\n",
    "  \n",
    "  4.Inheritance"
   ]
  },
  {
   "cell_type": "markdown",
   "id": "0cc07f8a-0f82-4bbd-a755-eb490c095975",
   "metadata": {},
   "source": [
    "### Q3. Explain why the   ____________init___________()  function is used. Give a suitable example."
   ]
  },
  {
   "cell_type": "markdown",
   "id": "4e4bf684-017b-46e6-b805-67e1b43177c4",
   "metadata": {},
   "source": [
    "Ans= __init__ is a special python method that runs whenever a new object is created. These types of functions are used to initialize the attributes of that class"
   ]
  },
  {
   "cell_type": "markdown",
   "id": "c2b0caf7-2a34-419e-b505-5cfb668b807e",
   "metadata": {},
   "source": [
    "Example---"
   ]
  },
  {
   "cell_type": "code",
   "execution_count": 8,
   "id": "0dc2b2b6-3dd0-4ea9-a868-32bf57b6ba24",
   "metadata": {},
   "outputs": [],
   "source": [
    "class vehicle:\n",
    "    \n",
    "    def __init__(self,number_of_wheel,name_of_vehicle,colur_of_vehicle):\n",
    "        self.number_of_wheel=number_of_wheel\n",
    "        self.name_of_vehicle=name_of_vehicle\n",
    "        self.colur_of_vehicle=colur_of_vehicle"
   ]
  },
  {
   "cell_type": "code",
   "execution_count": 9,
   "id": "f8f5298f-f6a8-4a69-af6b-0a4fff1e6afc",
   "metadata": {},
   "outputs": [],
   "source": [
    "Abhi=vehicle(4,\"Toyata\",\"blue\")"
   ]
  },
  {
   "cell_type": "code",
   "execution_count": 11,
   "id": "faba3be3-da1c-4b8a-ade8-fef752849d4c",
   "metadata": {},
   "outputs": [
    {
     "data": {
      "text/plain": [
       "4"
      ]
     },
     "execution_count": 11,
     "metadata": {},
     "output_type": "execute_result"
    }
   ],
   "source": [
    "Abhi.number_of_wheel"
   ]
  },
  {
   "cell_type": "code",
   "execution_count": 12,
   "id": "7e54c86a-35ab-470c-807c-bbc63fa20a4a",
   "metadata": {},
   "outputs": [
    {
     "data": {
      "text/plain": [
       "'blue'"
      ]
     },
     "execution_count": 12,
     "metadata": {},
     "output_type": "execute_result"
    }
   ],
   "source": [
    "Abhi.colur_of_vehicle"
   ]
  },
  {
   "cell_type": "markdown",
   "id": "c62fc42d-7409-4d9b-9eb7-c76377d3f4b1",
   "metadata": {},
   "source": [
    "### Q4. Why self is used in OOPs?"
   ]
  },
  {
   "cell_type": "markdown",
   "id": "d254030c-0f3c-448e-be7f-4ecfaa42e5aa",
   "metadata": {},
   "source": [
    "Ans=self represents the instance of the class. By using the “self” we can access the attributes and methods of the class in python. It binds the attributes with the given arguments"
   ]
  },
  {
   "cell_type": "markdown",
   "id": "0fb33dab-98c9-4471-8252-0c086fd33551",
   "metadata": {},
   "source": [
    "### Q5. What is inheritance? Give an example for each type of inheritance."
   ]
  },
  {
   "cell_type": "markdown",
   "id": "ae32fc42-eaf8-43ab-b9d9-50ecbaad7b4d",
   "metadata": {},
   "source": [
    "Inheritance=Inheritance allows us to define a class that inherits all the methods and properties from another class.These are the example----\n"
   ]
  },
  {
   "cell_type": "code",
   "execution_count": 17,
   "id": "e6975407-03ad-4e3a-b3e2-45019e2261bf",
   "metadata": {},
   "outputs": [],
   "source": [
    "class class1:\n",
    "    def student_of_deoria(self):\n",
    "        print(\"this is the student of pw\")"
   ]
  },
  {
   "cell_type": "code",
   "execution_count": 18,
   "id": "f2f6b407-2f62-49c1-a294-5e8a2409bf52",
   "metadata": {},
   "outputs": [],
   "source": [
    "class class2:\n",
    "    def student_of_gorakhpur(self):\n",
    "        print(\"this is the student of allen\")"
   ]
  },
  {
   "cell_type": "code",
   "execution_count": 19,
   "id": "4f30845e-ba27-40bc-a4be-217b73261d36",
   "metadata": {},
   "outputs": [],
   "source": [
    "class class3(class1,class2):\n",
    "    pass\n"
   ]
  },
  {
   "cell_type": "code",
   "execution_count": 20,
   "id": "de8b8d90-f859-470f-b53b-e2d7084b9e34",
   "metadata": {},
   "outputs": [],
   "source": [
    "Abhishek=class3()"
   ]
  },
  {
   "cell_type": "code",
   "execution_count": 23,
   "id": "482e78ad-657f-49b8-b2da-6699e2cc83ee",
   "metadata": {},
   "outputs": [
    {
     "name": "stdout",
     "output_type": "stream",
     "text": [
      "this is the student of pw\n"
     ]
    }
   ],
   "source": [
    "Abhishek.student_of_deoria()"
   ]
  },
  {
   "cell_type": "code",
   "execution_count": 24,
   "id": "174f7dec-0f4c-4e69-9234-0e30b8f8993d",
   "metadata": {},
   "outputs": [
    {
     "name": "stdout",
     "output_type": "stream",
     "text": [
      "this is the student of allen\n"
     ]
    }
   ],
   "source": [
    "Abhishek.student_of_gorakhpur()"
   ]
  },
  {
   "cell_type": "code",
   "execution_count": null,
   "id": "a67b8c8a-7bd7-46b6-86f1-ac393e1650d8",
   "metadata": {},
   "outputs": [],
   "source": []
  }
 ],
 "metadata": {
  "kernelspec": {
   "display_name": "Python 3 (ipykernel)",
   "language": "python",
   "name": "python3"
  },
  "language_info": {
   "codemirror_mode": {
    "name": "ipython",
    "version": 3
   },
   "file_extension": ".py",
   "mimetype": "text/x-python",
   "name": "python",
   "nbconvert_exporter": "python",
   "pygments_lexer": "ipython3",
   "version": "3.10.8"
  }
 },
 "nbformat": 4,
 "nbformat_minor": 5
}
